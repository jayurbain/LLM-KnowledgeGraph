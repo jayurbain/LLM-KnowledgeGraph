{
 "cells": [
  {
   "cell_type": "markdown",
   "id": "d5f89d00",
   "metadata": {},
   "source": [
    "# PyKEEN Knowledge Graph Embedding\n",
    "\n",
    "Jay Urbain, PhD\n",
    "\n",
    "3/8/2024\n",
    "\n",
    "This task will guide you through the process of using PyKEEN for knowledge graph embedding. \n",
    "\n",
    "1. Data prepration\n",
    "2. Creating subject-predicate-object triples\n",
    "3. Modeling\n",
    "4. Evaluation\n",
    "\n",
    "References:  \n",
    "https://pykeen.github.io/  \n",
    "\n",
    "https://github.com/pykeen/pykeen \n",
    "\n",
    "Complete Guide to PyKeen: Python KnowlEdge EmbeddiNgs for Knowledge Graphs    \n",
    "https://analyticsindiamag.com/complete-guide-to-pykeen-python-knowledge-embeddings-for-knowledge-graphs/\n",
    "\n",
    "Stanford CS224W: Machine Learning w/ Graphs I 2023 I Knowledge Graph Embeddings   \n",
    "https://www.youtube.com/watch?v=isI_TUMoP60 \n"
   ]
  },
  {
   "cell_type": "code",
   "execution_count": 1,
   "id": "f1985566-d79d-48a9-aaa7-59bcf008912d",
   "metadata": {},
   "outputs": [
    {
     "name": "stdout",
     "output_type": "stream",
     "text": [
      "Requirement already satisfied: pykeen in /home/jay/anaconda3/envs/pytorch/lib/python3.9/site-packages (1.10.2)\n",
      "Requirement already satisfied: dataclasses-json in /home/jay/anaconda3/envs/pytorch/lib/python3.9/site-packages (from pykeen) (0.5.14)\n",
      "Requirement already satisfied: numpy in /home/jay/anaconda3/envs/pytorch/lib/python3.9/site-packages (from pykeen) (1.23.4)\n",
      "Requirement already satisfied: scipy>=1.7.0 in /home/jay/anaconda3/envs/pytorch/lib/python3.9/site-packages (from pykeen) (1.10.1)\n",
      "Requirement already satisfied: click in /home/jay/anaconda3/envs/pytorch/lib/python3.9/site-packages (from pykeen) (8.0.1)\n",
      "Requirement already satisfied: click-default-group in /home/jay/anaconda3/envs/pytorch/lib/python3.9/site-packages (from pykeen) (1.2.4)\n",
      "Requirement already satisfied: scikit-learn in /home/jay/anaconda3/envs/pytorch/lib/python3.9/site-packages (from pykeen) (1.3.2)\n",
      "Requirement already satisfied: torch>=2.0 in /home/jay/anaconda3/envs/pytorch/lib/python3.9/site-packages (from pykeen) (2.2.1)\n",
      "Requirement already satisfied: tqdm in /home/jay/anaconda3/envs/pytorch/lib/python3.9/site-packages (from pykeen) (4.62.2)\n",
      "Requirement already satisfied: requests in /home/jay/anaconda3/envs/pytorch/lib/python3.9/site-packages (from pykeen) (2.31.0)\n",
      "Requirement already satisfied: optuna>=2.0.0 in /home/jay/anaconda3/envs/pytorch/lib/python3.9/site-packages (from pykeen) (3.5.0)\n",
      "Requirement already satisfied: pandas>=1.0.0 in /home/jay/anaconda3/envs/pytorch/lib/python3.9/site-packages (from pykeen) (2.2.0)\n",
      "Requirement already satisfied: tabulate in /home/jay/anaconda3/envs/pytorch/lib/python3.9/site-packages (from pykeen) (0.9.0)\n",
      "Requirement already satisfied: more-click in /home/jay/anaconda3/envs/pytorch/lib/python3.9/site-packages (from pykeen) (0.1.2)\n",
      "Requirement already satisfied: more-itertools in /home/jay/anaconda3/envs/pytorch/lib/python3.9/site-packages (from pykeen) (10.1.0)\n",
      "Requirement already satisfied: pystow>=0.4.3 in /home/jay/anaconda3/envs/pytorch/lib/python3.9/site-packages (from pykeen) (0.5.3)\n",
      "Requirement already satisfied: docdata in /home/jay/anaconda3/envs/pytorch/lib/python3.9/site-packages (from pykeen) (0.0.3)\n",
      "Requirement already satisfied: class-resolver>0.4.2 in /home/jay/anaconda3/envs/pytorch/lib/python3.9/site-packages (from pykeen) (0.4.3)\n",
      "Requirement already satisfied: pyyaml in /home/jay/anaconda3/envs/pytorch/lib/python3.9/site-packages (from pykeen) (5.4.1)\n",
      "Requirement already satisfied: torch-max-mem>=0.1.1 in /home/jay/anaconda3/envs/pytorch/lib/python3.9/site-packages (from pykeen) (0.1.3)\n",
      "Requirement already satisfied: torch-ppr>=0.0.7 in /home/jay/anaconda3/envs/pytorch/lib/python3.9/site-packages (from pykeen) (0.0.8)\n",
      "Requirement already satisfied: typing-extensions in /home/jay/anaconda3/envs/pytorch/lib/python3.9/site-packages (from pykeen) (4.8.0)\n",
      "Requirement already satisfied: importlib-metadata>3.6 in /home/jay/anaconda3/envs/pytorch/lib/python3.9/site-packages (from class-resolver>0.4.2->pykeen) (6.8.0)\n",
      "Requirement already satisfied: alembic>=1.5.0 in /home/jay/anaconda3/envs/pytorch/lib/python3.9/site-packages (from optuna>=2.0.0->pykeen) (1.13.1)\n",
      "Requirement already satisfied: colorlog in /home/jay/anaconda3/envs/pytorch/lib/python3.9/site-packages (from optuna>=2.0.0->pykeen) (6.8.2)\n",
      "Requirement already satisfied: packaging>=20.0 in /home/jay/anaconda3/envs/pytorch/lib/python3.9/site-packages (from optuna>=2.0.0->pykeen) (23.1)\n",
      "Requirement already satisfied: sqlalchemy>=1.3.0 in /home/jay/anaconda3/envs/pytorch/lib/python3.9/site-packages (from optuna>=2.0.0->pykeen) (2.0.23)\n",
      "Requirement already satisfied: python-dateutil>=2.8.2 in /home/jay/anaconda3/envs/pytorch/lib/python3.9/site-packages (from pandas>=1.0.0->pykeen) (2.8.2)\n",
      "Requirement already satisfied: pytz>=2020.1 in /home/jay/anaconda3/envs/pytorch/lib/python3.9/site-packages (from pandas>=1.0.0->pykeen) (2023.3)\n",
      "Requirement already satisfied: tzdata>=2022.7 in /home/jay/anaconda3/envs/pytorch/lib/python3.9/site-packages (from pandas>=1.0.0->pykeen) (2023.3)\n",
      "Requirement already satisfied: filelock in /home/jay/anaconda3/envs/pytorch/lib/python3.9/site-packages (from torch>=2.0->pykeen) (3.7.1)\n",
      "Requirement already satisfied: sympy in /home/jay/anaconda3/envs/pytorch/lib/python3.9/site-packages (from torch>=2.0->pykeen) (1.12)\n",
      "Requirement already satisfied: networkx in /home/jay/anaconda3/envs/pytorch/lib/python3.9/site-packages (from torch>=2.0->pykeen) (3.1)\n",
      "Requirement already satisfied: jinja2 in /home/jay/anaconda3/envs/pytorch/lib/python3.9/site-packages (from torch>=2.0->pykeen) (3.1.3)\n",
      "Requirement already satisfied: fsspec in /home/jay/anaconda3/envs/pytorch/lib/python3.9/site-packages (from torch>=2.0->pykeen) (2023.10.0)\n",
      "Requirement already satisfied: nvidia-cuda-nvrtc-cu12==12.1.105 in /home/jay/anaconda3/envs/pytorch/lib/python3.9/site-packages (from torch>=2.0->pykeen) (12.1.105)\n",
      "Requirement already satisfied: nvidia-cuda-runtime-cu12==12.1.105 in /home/jay/anaconda3/envs/pytorch/lib/python3.9/site-packages (from torch>=2.0->pykeen) (12.1.105)\n",
      "Requirement already satisfied: nvidia-cuda-cupti-cu12==12.1.105 in /home/jay/anaconda3/envs/pytorch/lib/python3.9/site-packages (from torch>=2.0->pykeen) (12.1.105)\n",
      "Requirement already satisfied: nvidia-cudnn-cu12==8.9.2.26 in /home/jay/anaconda3/envs/pytorch/lib/python3.9/site-packages (from torch>=2.0->pykeen) (8.9.2.26)\n",
      "Requirement already satisfied: nvidia-cublas-cu12==12.1.3.1 in /home/jay/anaconda3/envs/pytorch/lib/python3.9/site-packages (from torch>=2.0->pykeen) (12.1.3.1)\n",
      "Requirement already satisfied: nvidia-cufft-cu12==11.0.2.54 in /home/jay/anaconda3/envs/pytorch/lib/python3.9/site-packages (from torch>=2.0->pykeen) (11.0.2.54)\n",
      "Requirement already satisfied: nvidia-curand-cu12==10.3.2.106 in /home/jay/anaconda3/envs/pytorch/lib/python3.9/site-packages (from torch>=2.0->pykeen) (10.3.2.106)\n",
      "Requirement already satisfied: nvidia-cusolver-cu12==11.4.5.107 in /home/jay/anaconda3/envs/pytorch/lib/python3.9/site-packages (from torch>=2.0->pykeen) (11.4.5.107)\n",
      "Requirement already satisfied: nvidia-cusparse-cu12==12.1.0.106 in /home/jay/anaconda3/envs/pytorch/lib/python3.9/site-packages (from torch>=2.0->pykeen) (12.1.0.106)\n",
      "Requirement already satisfied: nvidia-nccl-cu12==2.19.3 in /home/jay/anaconda3/envs/pytorch/lib/python3.9/site-packages (from torch>=2.0->pykeen) (2.19.3)\n",
      "Requirement already satisfied: nvidia-nvtx-cu12==12.1.105 in /home/jay/anaconda3/envs/pytorch/lib/python3.9/site-packages (from torch>=2.0->pykeen) (12.1.105)\n",
      "Requirement already satisfied: triton==2.2.0 in /home/jay/anaconda3/envs/pytorch/lib/python3.9/site-packages (from torch>=2.0->pykeen) (2.2.0)\n",
      "Requirement already satisfied: nvidia-nvjitlink-cu12 in /home/jay/anaconda3/envs/pytorch/lib/python3.9/site-packages (from nvidia-cusolver-cu12==11.4.5.107->torch>=2.0->pykeen) (12.4.99)\n",
      "Requirement already satisfied: marshmallow<4.0.0,>=3.18.0 in /home/jay/anaconda3/envs/pytorch/lib/python3.9/site-packages (from dataclasses-json->pykeen) (3.20.1)\n",
      "Requirement already satisfied: typing-inspect<1,>=0.4.0 in /home/jay/anaconda3/envs/pytorch/lib/python3.9/site-packages (from dataclasses-json->pykeen) (0.9.0)\n",
      "Requirement already satisfied: charset-normalizer<4,>=2 in /home/jay/anaconda3/envs/pytorch/lib/python3.9/site-packages (from requests->pykeen) (2.0.4)\n",
      "Requirement already satisfied: idna<4,>=2.5 in /home/jay/anaconda3/envs/pytorch/lib/python3.9/site-packages (from requests->pykeen) (3.2)\n",
      "Requirement already satisfied: urllib3<3,>=1.21.1 in /home/jay/anaconda3/envs/pytorch/lib/python3.9/site-packages (from requests->pykeen) (1.26.6)\n",
      "Requirement already satisfied: certifi>=2017.4.17 in /home/jay/anaconda3/envs/pytorch/lib/python3.9/site-packages (from requests->pykeen) (2021.5.30)\n",
      "Requirement already satisfied: joblib>=1.1.1 in /home/jay/anaconda3/envs/pytorch/lib/python3.9/site-packages (from scikit-learn->pykeen) (1.2.0)\n",
      "Requirement already satisfied: threadpoolctl>=2.0.0 in /home/jay/anaconda3/envs/pytorch/lib/python3.9/site-packages (from scikit-learn->pykeen) (2.2.0)\n",
      "Requirement already satisfied: Mako in /home/jay/anaconda3/envs/pytorch/lib/python3.9/site-packages (from alembic>=1.5.0->optuna>=2.0.0->pykeen) (1.3.2)\n",
      "Requirement already satisfied: zipp>=0.5 in /home/jay/anaconda3/envs/pytorch/lib/python3.9/site-packages (from importlib-metadata>3.6->class-resolver>0.4.2->pykeen) (3.17.0)\n",
      "Requirement already satisfied: six>=1.5 in /home/jay/anaconda3/envs/pytorch/lib/python3.9/site-packages (from python-dateutil>=2.8.2->pandas>=1.0.0->pykeen) (1.15.0)\n",
      "Requirement already satisfied: greenlet!=0.4.17 in /home/jay/anaconda3/envs/pytorch/lib/python3.9/site-packages (from sqlalchemy>=1.3.0->optuna>=2.0.0->pykeen) (3.0.1)\n",
      "Requirement already satisfied: mypy-extensions>=0.3.0 in /home/jay/anaconda3/envs/pytorch/lib/python3.9/site-packages (from typing-inspect<1,>=0.4.0->dataclasses-json->pykeen) (1.0.0)\n",
      "Requirement already satisfied: MarkupSafe>=2.0 in /home/jay/anaconda3/envs/pytorch/lib/python3.9/site-packages (from jinja2->torch>=2.0->pykeen) (2.1.3)\n",
      "Requirement already satisfied: mpmath>=0.19 in /home/jay/anaconda3/envs/pytorch/lib/python3.9/site-packages (from sympy->torch>=2.0->pykeen) (1.3.0)\n",
      "\n",
      "\u001b[1m[\u001b[0m\u001b[34;49mnotice\u001b[0m\u001b[1;39;49m]\u001b[0m\u001b[39;49m A new release of pip is available: \u001b[0m\u001b[31;49m23.3.2\u001b[0m\u001b[39;49m -> \u001b[0m\u001b[32;49m24.0\u001b[0m\n",
      "\u001b[1m[\u001b[0m\u001b[34;49mnotice\u001b[0m\u001b[1;39;49m]\u001b[0m\u001b[39;49m To update, run: \u001b[0m\u001b[32;49mpip install --upgrade pip\u001b[0m\n",
      "Requirement already satisfied: seaborn in /home/jay/anaconda3/envs/pytorch/lib/python3.9/site-packages (0.13.0)\n",
      "Requirement already satisfied: numpy!=1.24.0,>=1.20 in /home/jay/anaconda3/envs/pytorch/lib/python3.9/site-packages (from seaborn) (1.23.4)\n",
      "Requirement already satisfied: pandas>=1.2 in /home/jay/anaconda3/envs/pytorch/lib/python3.9/site-packages (from seaborn) (2.2.0)\n",
      "Requirement already satisfied: matplotlib!=3.6.1,>=3.3 in /home/jay/anaconda3/envs/pytorch/lib/python3.9/site-packages (from seaborn) (3.5.2)\n",
      "Requirement already satisfied: cycler>=0.10 in /home/jay/anaconda3/envs/pytorch/lib/python3.9/site-packages (from matplotlib!=3.6.1,>=3.3->seaborn) (0.11.0)\n",
      "Requirement already satisfied: fonttools>=4.22.0 in /home/jay/anaconda3/envs/pytorch/lib/python3.9/site-packages (from matplotlib!=3.6.1,>=3.3->seaborn) (4.25.0)\n",
      "Requirement already satisfied: kiwisolver>=1.0.1 in /home/jay/anaconda3/envs/pytorch/lib/python3.9/site-packages (from matplotlib!=3.6.1,>=3.3->seaborn) (1.4.3)\n",
      "Requirement already satisfied: packaging>=20.0 in /home/jay/anaconda3/envs/pytorch/lib/python3.9/site-packages (from matplotlib!=3.6.1,>=3.3->seaborn) (23.1)\n",
      "Requirement already satisfied: pillow>=6.2.0 in /home/jay/anaconda3/envs/pytorch/lib/python3.9/site-packages (from matplotlib!=3.6.1,>=3.3->seaborn) (10.2.0)\n",
      "Requirement already satisfied: pyparsing>=2.2.1 in /home/jay/anaconda3/envs/pytorch/lib/python3.9/site-packages (from matplotlib!=3.6.1,>=3.3->seaborn) (2.4.7)\n",
      "Requirement already satisfied: python-dateutil>=2.7 in /home/jay/anaconda3/envs/pytorch/lib/python3.9/site-packages (from matplotlib!=3.6.1,>=3.3->seaborn) (2.8.2)\n",
      "Requirement already satisfied: pytz>=2020.1 in /home/jay/anaconda3/envs/pytorch/lib/python3.9/site-packages (from pandas>=1.2->seaborn) (2023.3)\n",
      "Requirement already satisfied: tzdata>=2022.7 in /home/jay/anaconda3/envs/pytorch/lib/python3.9/site-packages (from pandas>=1.2->seaborn) (2023.3)\n",
      "Requirement already satisfied: six>=1.5 in /home/jay/anaconda3/envs/pytorch/lib/python3.9/site-packages (from python-dateutil>=2.7->matplotlib!=3.6.1,>=3.3->seaborn) (1.15.0)\n",
      "\n",
      "\u001b[1m[\u001b[0m\u001b[34;49mnotice\u001b[0m\u001b[1;39;49m]\u001b[0m\u001b[39;49m A new release of pip is available: \u001b[0m\u001b[31;49m23.3.2\u001b[0m\u001b[39;49m -> \u001b[0m\u001b[32;49m24.0\u001b[0m\n",
      "\u001b[1m[\u001b[0m\u001b[34;49mnotice\u001b[0m\u001b[1;39;49m]\u001b[0m\u001b[39;49m To update, run: \u001b[0m\u001b[32;49mpip install --upgrade pip\u001b[0m\n"
     ]
    }
   ],
   "source": [
    "!pip install pykeen\n",
    "!pip install seaborn"
   ]
  },
  {
   "cell_type": "markdown",
   "id": "a13325e3",
   "metadata": {},
   "source": [
    "## Data Preparation"
   ]
  },
  {
   "cell_type": "code",
   "execution_count": 3,
   "id": "100a4452",
   "metadata": {},
   "outputs": [
    {
     "data": {
      "text/html": [
       "<div>\n",
       "<style scoped>\n",
       "    .dataframe tbody tr th:only-of-type {\n",
       "        vertical-align: middle;\n",
       "    }\n",
       "\n",
       "    .dataframe tbody tr th {\n",
       "        vertical-align: top;\n",
       "    }\n",
       "\n",
       "    .dataframe thead th {\n",
       "        text-align: right;\n",
       "    }\n",
       "</style>\n",
       "<table border=\"1\" class=\"dataframe\">\n",
       "  <thead>\n",
       "    <tr style=\"text-align: right;\">\n",
       "      <th></th>\n",
       "      <th>subject</th>\n",
       "      <th>predicate</th>\n",
       "      <th>object</th>\n",
       "    </tr>\n",
       "  </thead>\n",
       "  <tbody>\n",
       "    <tr>\n",
       "      <th>0</th>\n",
       "      <td>Alice</td>\n",
       "      <td>like</td>\n",
       "      <td>movie</td>\n",
       "    </tr>\n",
       "    <tr>\n",
       "      <th>1</th>\n",
       "      <td>Bob</td>\n",
       "      <td>like</td>\n",
       "      <td>movie</td>\n",
       "    </tr>\n",
       "    <tr>\n",
       "      <th>2</th>\n",
       "      <td>Charlie</td>\n",
       "      <td>like</td>\n",
       "      <td>movie</td>\n",
       "    </tr>\n",
       "    <tr>\n",
       "      <th>3</th>\n",
       "      <td>David</td>\n",
       "      <td>like</td>\n",
       "      <td>music</td>\n",
       "    </tr>\n",
       "    <tr>\n",
       "      <th>4</th>\n",
       "      <td>Eve</td>\n",
       "      <td>like</td>\n",
       "      <td>music</td>\n",
       "    </tr>\n",
       "    <tr>\n",
       "      <th>5</th>\n",
       "      <td>Alice</td>\n",
       "      <td>has</td>\n",
       "      <td>cat</td>\n",
       "    </tr>\n",
       "    <tr>\n",
       "      <th>6</th>\n",
       "      <td>Bob</td>\n",
       "      <td>has</td>\n",
       "      <td>cat</td>\n",
       "    </tr>\n",
       "    <tr>\n",
       "      <th>7</th>\n",
       "      <td>David</td>\n",
       "      <td>has</td>\n",
       "      <td>dog</td>\n",
       "    </tr>\n",
       "    <tr>\n",
       "      <th>8</th>\n",
       "      <td>Eve</td>\n",
       "      <td>has</td>\n",
       "      <td>dog</td>\n",
       "    </tr>\n",
       "    <tr>\n",
       "      <th>9</th>\n",
       "      <td>Frank</td>\n",
       "      <td>has</td>\n",
       "      <td>dog</td>\n",
       "    </tr>\n",
       "    <tr>\n",
       "      <th>10</th>\n",
       "      <td>David</td>\n",
       "      <td>has</td>\n",
       "      <td>cat</td>\n",
       "    </tr>\n",
       "  </tbody>\n",
       "</table>\n",
       "</div>"
      ],
      "text/plain": [
       "    subject predicate object\n",
       "0     Alice      like  movie\n",
       "1       Bob      like  movie\n",
       "2   Charlie      like  movie\n",
       "3     David      like  music\n",
       "4       Eve      like  music\n",
       "5     Alice       has    cat\n",
       "6       Bob       has    cat\n",
       "7     David       has    dog\n",
       "8       Eve       has    dog\n",
       "9     Frank       has    dog\n",
       "10    David       has    cat"
      ]
     },
     "execution_count": 3,
     "metadata": {},
     "output_type": "execute_result"
    }
   ],
   "source": [
    "import pandas as pd\n",
    "\n",
    "# Define the subjects, predicates, and objects\n",
    "subjects =   ['Alice', 'Bob', 'Charlie', 'David', 'Eve', 'Alice', 'Bob', 'David', 'Eve', 'Frank', 'David']\n",
    "predicates = ['like', 'like', 'like', 'like', 'like', 'has', 'has', 'has' , 'has','has', 'has']\n",
    "objects =    ['movie', 'movie', 'movie', 'music', 'music', 'cat', 'cat', 'dog', 'dog', 'dog', 'cat']\n",
    "\n",
    "# Create a dataframe\n",
    "df = pd.DataFrame({'subject': subjects, 'predicate': predicates, 'object': objects})\n",
    "\n",
    "# Save the dataframe to a TSV file\n",
    "df.to_csv('dataset10.csv', sep=',', index=False, header=False)\n",
    "df.to_csv('dataset10.tsv', sep='\\t', index=False, header=False)\n",
    "\n",
    "df"
   ]
  },
  {
   "cell_type": "markdown",
   "id": "a29c7587",
   "metadata": {},
   "source": [
    "The triples represent entity relationships for populating the knowledge graph. In PyKEEN, we can use the `TriplesFactory` class to create these triples."
   ]
  },
  {
   "cell_type": "code",
   "execution_count": 4,
   "id": "169443e1",
   "metadata": {},
   "outputs": [
    {
     "name": "stderr",
     "output_type": "stream",
     "text": [
      "Reconstructing all label-based triples. This is expensive and rarely needed.\n"
     ]
    },
    {
     "data": {
      "text/plain": [
       "array([['Alice', 'has', 'cat'],\n",
       "       ['Alice', 'like', 'movie'],\n",
       "       ['Bob', 'has', 'cat'],\n",
       "       ['Bob', 'like', 'movie'],\n",
       "       ['Charlie', 'like', 'movie'],\n",
       "       ['David', 'has', 'cat'],\n",
       "       ['David', 'has', 'dog'],\n",
       "       ['David', 'like', 'music'],\n",
       "       ['Eve', 'has', 'dog'],\n",
       "       ['Eve', 'like', 'music'],\n",
       "       ['Frank', 'has', 'dog']], dtype='<U7')"
      ]
     },
     "execution_count": 4,
     "metadata": {},
     "output_type": "execute_result"
    }
   ],
   "source": [
    "from pykeen.triples import TriplesFactory\n",
    "\n",
    "# Assuming your dataframe has columns 'subject', 'predicate', 'object'\n",
    "triples_factory = TriplesFactory.from_labeled_triples(\n",
    "    triples=df[['subject', 'predicate', 'object']].values,\n",
    ")\n",
    "\n",
    "# Display the first few triples\n",
    "triples_factory.triples"
   ]
  },
  {
   "cell_type": "markdown",
   "id": "fb683d4a-019b-4fc5-89c1-39785d269350",
   "metadata": {},
   "source": [
    "Create training, validation, testing triples `triples_factory.split(ratios=(.6, .2, .2))`"
   ]
  },
  {
   "cell_type": "code",
   "execution_count": 5,
   "id": "a5d36025",
   "metadata": {},
   "outputs": [
    {
     "name": "stderr",
     "output_type": "stream",
     "text": [
      "Reconstructing all label-based triples. This is expensive and rarely needed.\n"
     ]
    },
    {
     "name": "stdout",
     "output_type": "stream",
     "text": [
      " 0:Alice   0:has      6:cat    \n",
      " 0:Alice   1:like     8:movie  \n",
      " 1:Bob     0:has      6:cat    \n",
      " 1:Bob     1:like     8:movie  \n",
      " 2:Charlie 1:like     8:movie  \n",
      " 3:David   0:has      6:cat    \n",
      " 3:David   0:has      7:dog    \n",
      " 3:David   1:like     9:music  \n",
      " 4:Eve     0:has      7:dog    \n",
      " 4:Eve     1:like     9:music  \n",
      " 5:Frank   0:has      7:dog    \n"
     ]
    }
   ],
   "source": [
    "\n",
    "training = triples_factory\n",
    "validation = triples_factory\n",
    "testing = triples_factory\n",
    "\n",
    "d=training\n",
    "id_to_entity={v: k for k, v in d.entity_to_id.items()}\n",
    "id_to_relation={v: k for k, v in d.relation_to_id.items()}\n",
    "\n",
    "for i in d.map_triples(d.triples):\n",
    "    s,p,o =int(i[0]), int(i[1]), int(i[2])\n",
    "    h,r,t = id_to_entity[s], id_to_relation[p], id_to_entity[o]\n",
    "    print(f\"{s:2d}:{h:7}{p:2d}:{r:7} {o:2d}:{t:7}\")"
   ]
  },
  {
   "cell_type": "markdown",
   "id": "e70db559",
   "metadata": {},
   "source": [
    "## Setup Embedding Model\n",
    "\n",
    "PyKEEN provides several models for this purpose. TransE is a goog place to start. Also try TransR."
   ]
  },
  {
   "cell_type": "code",
   "execution_count": 6,
   "id": "0ba5c071",
   "metadata": {},
   "outputs": [
    {
     "name": "stderr",
     "output_type": "stream",
     "text": [
      "No random seed is specified. Setting to 3509915222.\n"
     ]
    },
    {
     "data": {
      "application/json": {
       "ascii": false,
       "bar_format": null,
       "colour": null,
       "elapsed": 0.0035691261291503906,
       "initial": 0,
       "n": 0,
       "ncols": null,
       "nrows": 24,
       "postfix": null,
       "prefix": "Training epochs on cuda:0",
       "rate": null,
       "total": 50,
       "unit": "epoch",
       "unit_divisor": 1000,
       "unit_scale": false
      },
      "application/vnd.jupyter.widget-view+json": {
       "model_id": "5dea27748ea146a493a5534b833be8f8",
       "version_major": 2,
       "version_minor": 0
      },
      "text/plain": [
       "Training epochs on cuda:0:   0%|          | 0/50 [00:00<?, ?epoch/s]"
      ]
     },
     "metadata": {},
     "output_type": "display_data"
    },
    {
     "data": {
      "application/json": {
       "ascii": false,
       "bar_format": null,
       "colour": null,
       "elapsed": 0.004343748092651367,
       "initial": 0,
       "n": 0,
       "ncols": null,
       "nrows": 24,
       "postfix": null,
       "prefix": "Evaluating on cuda:0",
       "rate": null,
       "total": 11,
       "unit": "triple",
       "unit_divisor": 1000,
       "unit_scale": true
      },
      "application/vnd.jupyter.widget-view+json": {
       "model_id": "82c3d1b799b64ba49f112d02614ce948",
       "version_major": 2,
       "version_minor": 0
      },
      "text/plain": [
       "Evaluating on cuda:0:   0%|          | 0.00/11.0 [00:00<?, ?triple/s]"
      ]
     },
     "metadata": {},
     "output_type": "display_data"
    },
    {
     "name": "stderr",
     "output_type": "stream",
     "text": [
      "INFO:pykeen.evaluation.evaluator:Evaluation took 0.08s seconds\n"
     ]
    },
    {
     "data": {
      "text/plain": [
       "<Axes: title={'center': 'Losses Plot'}, xlabel='Epoch', ylabel='softplus Loss'>"
      ]
     },
     "execution_count": 6,
     "metadata": {},
     "output_type": "execute_result"
    },
    {
     "data": {
      "image/png": "[encoded data removed]",
      "text/plain": [
       "<Figure size 640x480 with 1 Axes>"
      ]
     },
     "metadata": {},
     "output_type": "display_data"
    }
   ],
   "source": [
    "from pykeen.pipeline import pipeline\n",
    "\n",
    "result = pipeline(\n",
    "    model='TransE',\n",
    "    loss=\"softplus\",\n",
    "    training=training,\n",
    "    testing=testing,\n",
    "    validation=validation,\n",
    "    model_kwargs=dict(embedding_dim=3, random_seed=42),  # Increase the embedding dimension\n",
    "    optimizer_kwargs=dict(lr=0.1),  # Adjust the learning rate\n",
    "    training_kwargs=dict(num_epochs=50, use_tqdm_batch=False),  # Increase the number of epochs\n",
    ")\n",
    "\n",
    "# The trained model is stored in the pipeline result\n",
    "model = result.model\n",
    "\n",
    "#plot loss\n",
    "result.plot_losses()"
   ]
  },
  {
   "cell_type": "markdown",
   "id": "60f35cdf",
   "metadata": {},
   "source": [
    "## Model Ealuation\n",
    "\n",
    "PyKEEN provides several evaluation metrics, such as Hits@10, Mean Rank, and Mean Reciprocal Rank. \n",
    "\n",
    "These metrics can be calculated using the `Evaluator` class."
   ]
  },
  {
   "cell_type": "code",
   "execution_count": 7,
   "id": "ae0309a7",
   "metadata": {},
   "outputs": [
    {
     "data": {
      "application/json": {
       "ascii": false,
       "bar_format": null,
       "colour": null,
       "elapsed": 0.00464320182800293,
       "initial": 0,
       "n": 0,
       "ncols": null,
       "nrows": 24,
       "postfix": null,
       "prefix": "Evaluating on cuda:0",
       "rate": null,
       "total": 11,
       "unit": "triple",
       "unit_divisor": 1000,
       "unit_scale": true
      },
      "application/vnd.jupyter.widget-view+json": {
       "model_id": "a2524ae20afd4206b419a07cccfb82a1",
       "version_major": 2,
       "version_minor": 0
      },
      "text/plain": [
       "Evaluating on cuda:0:   0%|          | 0.00/11.0 [00:00<?, ?triple/s]"
      ]
     },
     "metadata": {},
     "output_type": "display_data"
    },
    {
     "name": "stderr",
     "output_type": "stream",
     "text": [
      "INFO:pykeen.evaluation.evaluator:Evaluation took 0.05s seconds\n"
     ]
    },
    {
     "name": "stdout",
     "output_type": "stream",
     "text": [
      "Hits@1: 0.9090909090909091\n",
      "Hits@3: 1.0\n",
      "Hits@5: 1.0\n",
      "Hits@10: 1.0\n",
      "Mean Reciprocal Rank: 0.9545454382896423\n"
     ]
    }
   ],
   "source": [
    "from pykeen.evaluation import RankBasedEvaluator\n",
    "# The result object also contains the evaluation metrics result.metric_results.to_df()\n",
    "\n",
    "# Create an evaluator\n",
    "evaluator = RankBasedEvaluator()\n",
    "\n",
    "# Evaluate the model\n",
    "metrics = evaluator.evaluate(result.model, testing.mapped_triples, additional_filter_triples=[training.mapped_triples, validation.mapped_triples])\n",
    "\n",
    "# Print the metrics\n",
    "print(f\"Hits@1: {metrics.get_metric('hits@1')}\")\n",
    "print(f\"Hits@3: {metrics.get_metric('hits@3')}\")\n",
    "print(f\"Hits@5: {metrics.get_metric('hits@5')}\")\n",
    "print(f\"Hits@10: {metrics.get_metric('hits@10')}\")\n",
    "print(f\"Mean Reciprocal Rank: {metrics.get_metric('mean_reciprocal_rank')}\")"
   ]
  },
  {
   "cell_type": "markdown",
   "id": "6020fbd6",
   "metadata": {},
   "source": [
    "## Embedding Visualization\n",
    "\n",
    "We can use Principal Component Analysis (PCA) to reduce the dimensionality of our embeddings and then plot them."
   ]
  },
  {
   "cell_type": "code",
   "execution_count": 11,
   "id": "1e2f10c5",
   "metadata": {},
   "outputs": [
    {
     "data": {
      "text/plain": [
       "(-1.0, 1.0)"
      ]
     },
     "execution_count": 11,
     "metadata": {},
     "output_type": "execute_result"
    },
    {
     "data": {
      "image/png": "[encoded data removed]",
      "text/plain": [
       "<Figure size 600x600 with 1 Axes>"
      ]
     },
     "metadata": {},
     "output_type": "display_data"
    }
   ],
   "source": [
    "import numpy as np\n",
    "import matplotlib.pyplot as plt\n",
    "from sklearn.decomposition import PCA\n",
    "\n",
    "plt.figure(figsize=(6, 6))\n",
    "pca = PCA(n_components=2)\n",
    "# entity_embeddings = model.entity_representations[0](indices=None).detach().numpy()\n",
    "entity_embeddings = model.entity_representations[0](indices=None).cpu().detach().numpy()\n",
    "\n",
    "m = pca.fit(entity_embeddings)\n",
    "\n",
    "eu = m.transform(entity_embeddings)\n",
    "# plt.plot(eu[:, 0], eu[:, 1],'.b')\n",
    "for i, entity in enumerate(triples_factory.entity_id_to_label):\n",
    "    plt.annotate(\n",
    "        text=id_to_entity[entity],\n",
    "        xy=(eu[i, 0], eu[i, 1]),\n",
    "        color=\"tab:blue\",\n",
    "        ha=\"center\", va=\"center\"\n",
    "    )\n",
    "\n",
    "    \n",
    "# relation_embeddings = model.relation_representations[0](indices=None).detach().numpy()\n",
    "relation_embeddings = model.relation_representations[0](indices=None).cpu().detach().numpy()\n",
    "\n",
    "ru = pca.transform(relation_embeddings)\n",
    "for i, relation in enumerate(triples_factory.relation_id_to_label):\n",
    "    plt.annotate(\n",
    "        text=id_to_relation[relation],\n",
    "        xy=(0,0), xytext=(ru[i, 0], ru[i, 1]),\n",
    "        arrowprops=dict(\n",
    "            arrowstyle=\"<-\",\n",
    "            color=\"tab:red\",\n",
    "            shrinkA=5,\n",
    "            shrinkB=5,\n",
    "            patchA=None,\n",
    "            patchB=None,\n",
    "            connectionstyle=\"arc3,rad=0.\"\n",
    "        )\n",
    "    )\n",
    "\n",
    "plt.xlim([-2, 2])\n",
    "plt.ylim([-1, 1])\n"
   ]
  },
  {
   "cell_type": "code",
   "execution_count": null,
   "id": "c37674c5",
   "metadata": {},
   "outputs": [],
   "source": []
  },
  {
   "cell_type": "code",
   "execution_count": null,
   "id": "cecf9626",
   "metadata": {},
   "outputs": [],
   "source": []
  }
 ],
 "metadata": {
  "kernelspec": {
   "display_name": "Python 3 (ipykernel)",
   "language": "python",
   "name": "python3"
  },
  "language_info": {
   "codemirror_mode": {
    "name": "ipython",
    "version": 3
   },
   "file_extension": ".py",
   "mimetype": "text/x-python",
   "name": "python",
   "nbconvert_exporter": "python",
   "pygments_lexer": "ipython3",
   "version": "3.9.18"
  }
 },
 "nbformat": 4,
 "nbformat_minor": 5
}
